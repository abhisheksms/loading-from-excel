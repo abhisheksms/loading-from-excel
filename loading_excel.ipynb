{
 "cells": [
  {
   "cell_type": "code",
   "execution_count": 24,
   "metadata": {
    "collapsed": true
   },
   "outputs": [],
   "source": [
    "import numpy as np\n",
    "import pandas as pd\n",
    "import matplotlib.pyplot as plt\n",
    "import tensorflow as tf"
   ]
  },
  {
   "cell_type": "code",
   "execution_count": 102,
   "metadata": {},
   "outputs": [
    {
     "name": "stdout",
     "output_type": "stream",
     "text": [
      "*** No CODEPAGE record, no encoding_override: will use 'ascii'\n"
     ]
    }
   ],
   "source": [
    "#df=pd.ExcelFile('slr04.xls')\n",
    "#df = pd.read_excel(open('slr05.xls','rb'), sheetname='Sheet 1')\n",
    "xls=pd.ExcelFile('slr05.xls')\n",
    "dfa=pd.read_excel(xls,'Sheet 1')\n",
    "\n",
    "# X = fires per 1000 housing units\n",
    "# Y = thefts per 1000 population\n",
    "\n",
    "a=np.array(dfa[['X']])\n",
    "c=np.array(dfa[['Y']])\n",
    "\n",
    "# print(a.shape)\n",
    "# print(b.shape)\n",
    "# print((b*a).shape)#1x1 shape does not work in numpy\n",
    "# print(a+b)\n",
    "#print(a.shape[0])"
   ]
  },
  {
   "cell_type": "code",
   "execution_count": 94,
   "metadata": {
    "collapsed": true
   },
   "outputs": [],
   "source": [
    "#y=Wx+b\n",
    "#W,b are weights i.e. variables\n",
    "#x is input i.e. placeholder\n",
    "\n",
    "W=tf.Variable(np.random.randn,dtype=tf.float32,name=\"weight\")\n",
    "b=tf.Variable(np.random.randn,dtype=tf.float32,name=\"bias\")\n",
    "\n",
    "X=tf.placeholder(tf.float32)#later use [None,1]\n",
    "Y=tf.placeholder(tf.float32,name=\"predicted_output\")\n",
    "\n",
    "#y_=tf.placeholder(tf.float32,name=\"actual_output\")#used for computing accuracy\n",
    "\n",
    "N=c.shape[0]"
   ]
  },
  {
   "cell_type": "code",
   "execution_count": 113,
   "metadata": {},
   "outputs": [],
   "source": [
    "init = tf.global_variables_initializer()\n",
    "sess=tf.Session()\n",
    "sess.run(init)\n",
    "\n",
    "\n",
    "#applying linear regression\n",
    "\n",
    "#we will be using mean squared error as the cost function\n",
    "\n",
    "pred=X*W + b#predicted output\n",
    "\n",
    "num= (pred-Y)**2\n",
    "den=2*N\n",
    "\n",
    "cost=num/den\n",
    "\n",
    "optimizer=tf.train.GradientDescentOptimizer(0.01).minimize(cost)\n",
    "\n",
    "\n",
    "\n"
   ]
  },
  {
   "cell_type": "code",
   "execution_count": 114,
   "metadata": {},
   "outputs": [],
   "source": [
    "#training time\n",
    "for epoch in range(200):\n",
    "    for (x,y) in zip(a,c):\n",
    "        sess.run(optimizer, feed_dict={X:x,Y:y})"
   ]
  },
  {
   "cell_type": "code",
   "execution_count": 115,
   "metadata": {},
   "outputs": [
    {
     "data": {
      "image/png": "[encoded data removed]",
      "text/plain": [
       "<matplotlib.figure.Figure at 0x2470661a828>"
      ]
     },
     "metadata": {},
     "output_type": "display_data"
    }
   ],
   "source": [
    "plt.scatter(a,c)\n",
    "plt.plot(a,sess.run(W)*a + sess.run(b),label=\"best fit\")\n",
    "plt.legend()\n",
    "plt.show()"
   ]
  },
  {
   "cell_type": "code",
   "execution_count": null,
   "metadata": {},
   "outputs": [],
   "source": []
  },
  {
   "cell_type": "code",
   "execution_count": null,
   "metadata": {
    "collapsed": true
   },
   "outputs": [],
   "source": []
  }
 ],
 "metadata": {
  "kernelspec": {
   "display_name": "Python 3",
   "language": "python",
   "name": "python3"
  },
  "language_info": {
   "codemirror_mode": {
    "name": "ipython",
    "version": 3
   },
   "file_extension": ".py",
   "mimetype": "text/x-python",
   "name": "python",
   "nbconvert_exporter": "python",
   "pygments_lexer": "ipython3",
   "version": "3.6.3"
  }
 },
 "nbformat": 4,
 "nbformat_minor": 2
}
